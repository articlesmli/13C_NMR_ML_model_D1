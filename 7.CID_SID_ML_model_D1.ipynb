{
 "cells": [
  {
   "cell_type": "markdown",
   "id": "18f6f4f5-a126-4c4f-950b-8cc6ffa916b6",
   "metadata": {},
   "source": [
    "# Levarage PubChem IDs for predicting the Dopamine D1 receptor antagonists. "
   ]
  },
  {
   "cell_type": "markdown",
   "id": "1dcf9d82-657a-4656-b3f3-c8905d770694",
   "metadata": {},
   "source": [
    "### Content   <a name=\"content\"></a>"
   ]
  },
  {
   "cell_type": "markdown",
   "id": "b3551b8d-c497-4ba0-b627-ebcdd8e64a99",
   "metadata": {},
   "source": [
    "1. [Upload and analyse PubChem BioAssay AID 504652 on D1 receptor ](#1)\n",
    "2. [Create a data frame with CIDs, SIDs and targets](#2)\n",
    "3. [Upload and analyse PubChem BioAssay AID 1996 on water solubility ](#3)\n",
    "4. [Create the final data frame, crossing the data frame holding the targets with the water solubility data frame](#4)\n",
    "5. [Machine learning](#5)\n",
    "6. [Cross validation](#6)\n",
    "7. [Hyperparameter tuning](#7)\n",
    "8. [Scrutinise for overfitting](#8)\n",
    "9. [Plot learning curve and AUC](#9)\n",
    "10. [Confusion matrix, classification report](#10)"
   ]
  },
  {
   "cell_type": "markdown",
   "id": "4b14090e-b376-4ffb-86be-653a06cb09e0",
   "metadata": {},
   "source": [
    "## Upload and analyse PubChem BioAssay AID 504652 on D1 receptor <a name=\"1\"></a>"
   ]
  },
  {
   "cell_type": "code",
   "execution_count": 1,
   "id": "e72d2861-3f2d-4804-803e-1c60ad3dbaaa",
   "metadata": {},
   "outputs": [
    {
     "name": "stdout",
     "output_type": "stream",
     "text": [
      "Shape of the data frame:  (359035, 10)\n"
     ]
    },
    {
     "data": {
      "text/html": [
       "<div>\n",
       "<style scoped>\n",
       "    .dataframe tbody tr th:only-of-type {\n",
       "        vertical-align: middle;\n",
       "    }\n",
       "\n",
       "    .dataframe tbody tr th {\n",
       "        vertical-align: top;\n",
       "    }\n",
       "\n",
       "    .dataframe thead th {\n",
       "        text-align: right;\n",
       "    }\n",
       "</style>\n",
       "<table border=\"1\" class=\"dataframe\">\n",
       "  <thead>\n",
       "    <tr style=\"text-align: right;\">\n",
       "      <th></th>\n",
       "      <th>PUBCHEM_RESULT_TAG</th>\n",
       "      <th>SID</th>\n",
       "      <th>CID</th>\n",
       "      <th>SMILES</th>\n",
       "      <th>PUBCHEM_ACTIVITY_OUTCOME</th>\n",
       "      <th>PUBCHEM_ACTIVITY_SCORE</th>\n",
       "      <th>PUBCHEM_ACTIVITY_URL</th>\n",
       "      <th>PUBCHEM_ASSAYDATA_COMMENT</th>\n",
       "      <th>Activity at 10.0 uM</th>\n",
       "      <th>Compound QC</th>\n",
       "    </tr>\n",
       "  </thead>\n",
       "  <tbody>\n",
       "    <tr>\n",
       "      <th>0</th>\n",
       "      <td>1</td>\n",
       "      <td>14737807</td>\n",
       "      <td>9551164.0</td>\n",
       "      <td>C1CCC2=C(C1)C3=C(S2)N=C4C(=CC=CN4C3=O)C(=O)NCC...</td>\n",
       "      <td>Active</td>\n",
       "      <td>50</td>\n",
       "      <td>NaN</td>\n",
       "      <td>NaN</td>\n",
       "      <td>-112.471</td>\n",
       "      <td>NaN</td>\n",
       "    </tr>\n",
       "    <tr>\n",
       "      <th>1</th>\n",
       "      <td>2</td>\n",
       "      <td>855827</td>\n",
       "      <td>4917.0</td>\n",
       "      <td>CN1CCN(CC1)CCCN2C3=CC=CC=C3SC4=C2C=C(C=C4)Cl</td>\n",
       "      <td>Active</td>\n",
       "      <td>50</td>\n",
       "      <td>NaN</td>\n",
       "      <td>NaN</td>\n",
       "      <td>-111.528</td>\n",
       "      <td>NaN</td>\n",
       "    </tr>\n",
       "    <tr>\n",
       "      <th>2</th>\n",
       "      <td>3</td>\n",
       "      <td>56463488</td>\n",
       "      <td>4350931.0</td>\n",
       "      <td>CN1CCC2=CC=CC=C2CC3=C(CC1)C4=CC=CC=C4N3</td>\n",
       "      <td>Active</td>\n",
       "      <td>50</td>\n",
       "      <td>NaN</td>\n",
       "      <td>NaN</td>\n",
       "      <td>-106.814</td>\n",
       "      <td>NaN</td>\n",
       "    </tr>\n",
       "    <tr>\n",
       "      <th>3</th>\n",
       "      <td>4</td>\n",
       "      <td>56463458</td>\n",
       "      <td>11957685.0</td>\n",
       "      <td>CC1=CC(=CC=C1)C2CN(CCC3=C(C(=C(C=C23)O)O)Cl)C.Br</td>\n",
       "      <td>Active</td>\n",
       "      <td>50</td>\n",
       "      <td>NaN</td>\n",
       "      <td>NaN</td>\n",
       "      <td>-106.293</td>\n",
       "      <td>NaN</td>\n",
       "    </tr>\n",
       "    <tr>\n",
       "      <th>4</th>\n",
       "      <td>5</td>\n",
       "      <td>855962</td>\n",
       "      <td>6602611.0</td>\n",
       "      <td>C1CN(CCN1CCCN2C3=CC=CC=C3SC4=C2C=C(C=C4)C(F)(F...</td>\n",
       "      <td>Active</td>\n",
       "      <td>50</td>\n",
       "      <td>NaN</td>\n",
       "      <td>NaN</td>\n",
       "      <td>-106.287</td>\n",
       "      <td>NaN</td>\n",
       "    </tr>\n",
       "  </tbody>\n",
       "</table>\n",
       "</div>"
      ],
      "text/plain": [
       "   PUBCHEM_RESULT_TAG       SID         CID  \\\n",
       "0                   1  14737807   9551164.0   \n",
       "1                   2    855827      4917.0   \n",
       "2                   3  56463488   4350931.0   \n",
       "3                   4  56463458  11957685.0   \n",
       "4                   5    855962   6602611.0   \n",
       "\n",
       "                                              SMILES PUBCHEM_ACTIVITY_OUTCOME  \\\n",
       "0  C1CCC2=C(C1)C3=C(S2)N=C4C(=CC=CN4C3=O)C(=O)NCC...                   Active   \n",
       "1       CN1CCN(CC1)CCCN2C3=CC=CC=C3SC4=C2C=C(C=C4)Cl                   Active   \n",
       "2            CN1CCC2=CC=CC=C2CC3=C(CC1)C4=CC=CC=C4N3                   Active   \n",
       "3   CC1=CC(=CC=C1)C2CN(CCC3=C(C(=C(C=C23)O)O)Cl)C.Br                   Active   \n",
       "4  C1CN(CCN1CCCN2C3=CC=CC=C3SC4=C2C=C(C=C4)C(F)(F...                   Active   \n",
       "\n",
       "   PUBCHEM_ACTIVITY_SCORE  PUBCHEM_ACTIVITY_URL  PUBCHEM_ASSAYDATA_COMMENT  \\\n",
       "0                      50                   NaN                        NaN   \n",
       "1                      50                   NaN                        NaN   \n",
       "2                      50                   NaN                        NaN   \n",
       "3                      50                   NaN                        NaN   \n",
       "4                      50                   NaN                        NaN   \n",
       "\n",
       "   Activity at 10.0 uM  Compound QC  \n",
       "0             -112.471          NaN  \n",
       "1             -111.528          NaN  \n",
       "2             -106.814          NaN  \n",
       "3             -106.293          NaN  \n",
       "4             -106.287          NaN  "
      ]
     },
     "execution_count": 1,
     "metadata": {},
     "output_type": "execute_result"
    }
   ],
   "source": [
    "import pandas as pd \n",
    "\n",
    "# load the BioAssay PubChem AID 504332 dataset\n",
    "df_targets = pd.read_csv('input/bioassy_PubChem_D1.csv')\n",
    "\n",
    "# To avoid truncation of some columns during data frame display\n",
    "pd.set_option('display.max_columns', None) \n",
    "\n",
    "# Display the data frame\n",
    "print('Shape of the data frame: ', df_targets.shape)\n",
    "df_targets.head()"
   ]
  },
  {
   "cell_type": "code",
   "execution_count": 2,
   "id": "f1f3eb32-ed9f-41c1-9af1-1f221c4a7e48",
   "metadata": {},
   "outputs": [
    {
     "name": "stdout",
     "output_type": "stream",
     "text": [
      "<class 'pandas.core.frame.DataFrame'>\n",
      "RangeIndex: 359035 entries, 0 to 359034\n",
      "Data columns (total 10 columns):\n",
      " #   Column                     Non-Null Count   Dtype  \n",
      "---  ------                     --------------   -----  \n",
      " 0   PUBCHEM_RESULT_TAG         359035 non-null  int64  \n",
      " 1   SID                        359035 non-null  int64  \n",
      " 2   CID                        359034 non-null  float64\n",
      " 3   SMILES                     359034 non-null  object \n",
      " 4   PUBCHEM_ACTIVITY_OUTCOME   359035 non-null  object \n",
      " 5   PUBCHEM_ACTIVITY_SCORE     359035 non-null  int64  \n",
      " 6   PUBCHEM_ACTIVITY_URL       0 non-null       float64\n",
      " 7   PUBCHEM_ASSAYDATA_COMMENT  0 non-null       float64\n",
      " 8   Activity at 10.0 uM        359035 non-null  float64\n",
      " 9   Compound QC                0 non-null       float64\n",
      "dtypes: float64(5), int64(3), object(2)\n",
      "memory usage: 27.4+ MB\n"
     ]
    }
   ],
   "source": [
    "df_targets.info()"
   ]
  },
  {
   "cell_type": "code",
   "execution_count": 3,
   "id": "dd9b495c-dd4b-4c61-8755-386c0f7cacd1",
   "metadata": {},
   "outputs": [
    {
     "data": {
      "text/plain": [
       "(359035, 10)"
      ]
     },
     "execution_count": 3,
     "metadata": {},
     "output_type": "execute_result"
    }
   ],
   "source": [
    "# Remove duplicates \n",
    "df_targets.drop_duplicates()\n",
    "df_targets.shape  # 353737 means no duplicates"
   ]
  },
  {
   "cell_type": "code",
   "execution_count": 4,
   "id": "64c2bfe8-8d09-4148-aeef-f1615c1d950d",
   "metadata": {},
   "outputs": [
    {
     "data": {
      "text/plain": [
       "(359034, 10)"
      ]
     },
     "execution_count": 4,
     "metadata": {},
     "output_type": "execute_result"
    }
   ],
   "source": [
    "# Remove compounds with missing CID-s\n",
    "df_targets = df_targets[df_targets['CID'].notna()]\n",
    "df_targets.shape"
   ]
  },
  {
   "cell_type": "code",
   "execution_count": 5,
   "id": "53cc4e9b-811e-43e1-ae5f-a8b9c7fca640",
   "metadata": {},
   "outputs": [
    {
     "data": {
      "text/plain": [
       "(359034, 10)"
      ]
     },
     "execution_count": 5,
     "metadata": {},
     "output_type": "execute_result"
    }
   ],
   "source": [
    "# Remove compounds with missing SID-s\n",
    "df_targets = df_targets[df_targets['SID'].notna()]\n",
    "df_targets.shape"
   ]
  },
  {
   "cell_type": "code",
   "execution_count": 6,
   "id": "d8286f72-c726-4e63-9bb6-3cfa3f60f02f",
   "metadata": {},
   "outputs": [
    {
     "name": "stdout",
     "output_type": "stream",
     "text": [
      "<class 'pandas.core.frame.DataFrame'>\n",
      "Index: 359034 entries, 0 to 359034\n",
      "Data columns (total 10 columns):\n",
      " #   Column                     Non-Null Count   Dtype  \n",
      "---  ------                     --------------   -----  \n",
      " 0   PUBCHEM_RESULT_TAG         359034 non-null  int64  \n",
      " 1   SID                        359034 non-null  int64  \n",
      " 2   CID                        359034 non-null  int64  \n",
      " 3   SMILES                     359034 non-null  object \n",
      " 4   PUBCHEM_ACTIVITY_OUTCOME   359034 non-null  object \n",
      " 5   PUBCHEM_ACTIVITY_SCORE     359034 non-null  int64  \n",
      " 6   PUBCHEM_ACTIVITY_URL       0 non-null       float64\n",
      " 7   PUBCHEM_ASSAYDATA_COMMENT  0 non-null       float64\n",
      " 8   Activity at 10.0 uM        359034 non-null  float64\n",
      " 9   Compound QC                0 non-null       float64\n",
      "dtypes: float64(4), int64(4), object(2)\n",
      "memory usage: 30.1+ MB\n"
     ]
    }
   ],
   "source": [
    "import numpy as np\n",
    "# Turn CID float data type into integer\n",
    "df_targets['CID'] = df_targets['CID'].astype(np.int64) \n",
    "df_targets.info()"
   ]
  },
  {
   "cell_type": "code",
   "execution_count": 7,
   "id": "33af7d38-13c4-4924-a43b-9b8a15a5c66e",
   "metadata": {},
   "outputs": [
    {
     "data": {
      "text/plain": [
       "array([1, 0], dtype=int64)"
      ]
     },
     "execution_count": 7,
     "metadata": {},
     "output_type": "execute_result"
    }
   ],
   "source": [
    "# Set the binary targets to \"1\" for an active inhibitors and \"0\" for others \n",
    "df_targets = df_targets.copy()\n",
    "\n",
    "# Create a dictionary\n",
    "target = {'Active' : 1,\n",
    "          'Inactive' : 0}\n",
    "\n",
    "# Replace the names with binary values set up in the dictionary targets\n",
    "df_targets.PUBCHEM_ACTIVITY_OUTCOME = [target[item] for item in df_targets.PUBCHEM_ACTIVITY_OUTCOME]\n",
    "\n",
    "# Rename \"unique combination\" into \"target\"\n",
    "df_targets = df_targets.rename(columns={'PUBCHEM_ACTIVITY_OUTCOME': 'target'})\n",
    "\n",
    "# Check how many unique values there are in the 'target' column\n",
    "df_targets['target'].unique()"
   ]
  },
  {
   "cell_type": "markdown",
   "id": "50d49afb-f776-4dd3-b5bc-f90124cf9507",
   "metadata": {},
   "source": [
    "[<a href=\"#content\">Back to top</a>]"
   ]
  },
  {
   "cell_type": "markdown",
   "id": "464374f5-3a0f-4beb-aaaa-85d49b376fb5",
   "metadata": {},
   "source": [
    "## Create a data frame with CIDs, SIDs and targets <a name=\"2\"></a>"
   ]
  },
  {
   "cell_type": "code",
   "execution_count": 8,
   "id": "37526020-1b1b-49a5-a0ae-bede8d43b43b",
   "metadata": {},
   "outputs": [
    {
     "name": "stdout",
     "output_type": "stream",
     "text": [
      "Shape of df_targets :  (359034, 3)\n"
     ]
    },
    {
     "data": {
      "text/html": [
       "<div>\n",
       "<style scoped>\n",
       "    .dataframe tbody tr th:only-of-type {\n",
       "        vertical-align: middle;\n",
       "    }\n",
       "\n",
       "    .dataframe tbody tr th {\n",
       "        vertical-align: top;\n",
       "    }\n",
       "\n",
       "    .dataframe thead th {\n",
       "        text-align: right;\n",
       "    }\n",
       "</style>\n",
       "<table border=\"1\" class=\"dataframe\">\n",
       "  <thead>\n",
       "    <tr style=\"text-align: right;\">\n",
       "      <th></th>\n",
       "      <th>CID</th>\n",
       "      <th>SID</th>\n",
       "      <th>target</th>\n",
       "    </tr>\n",
       "  </thead>\n",
       "  <tbody>\n",
       "    <tr>\n",
       "      <th>0</th>\n",
       "      <td>9551164</td>\n",
       "      <td>14737807</td>\n",
       "      <td>1</td>\n",
       "    </tr>\n",
       "    <tr>\n",
       "      <th>1</th>\n",
       "      <td>4917</td>\n",
       "      <td>855827</td>\n",
       "      <td>1</td>\n",
       "    </tr>\n",
       "    <tr>\n",
       "      <th>2</th>\n",
       "      <td>4350931</td>\n",
       "      <td>56463488</td>\n",
       "      <td>1</td>\n",
       "    </tr>\n",
       "    <tr>\n",
       "      <th>3</th>\n",
       "      <td>11957685</td>\n",
       "      <td>56463458</td>\n",
       "      <td>1</td>\n",
       "    </tr>\n",
       "    <tr>\n",
       "      <th>4</th>\n",
       "      <td>6602611</td>\n",
       "      <td>855962</td>\n",
       "      <td>1</td>\n",
       "    </tr>\n",
       "  </tbody>\n",
       "</table>\n",
       "</div>"
      ],
      "text/plain": [
       "        CID       SID  target\n",
       "0   9551164  14737807       1\n",
       "1      4917    855827       1\n",
       "2   4350931  56463488       1\n",
       "3  11957685  56463458       1\n",
       "4   6602611    855962       1"
      ]
     },
     "execution_count": 8,
     "metadata": {},
     "output_type": "execute_result"
    }
   ],
   "source": [
    "# Create a data frame containing the classification targets\n",
    "df_targets = df_targets [['CID', 'SID', 'target']]\n",
    "\n",
    "# Display the data frame\n",
    "print('Shape of df_targets : ', df_targets .shape)\n",
    "df_targets .head()"
   ]
  },
  {
   "cell_type": "code",
   "execution_count": 9,
   "id": "50d978ba-6e28-46c0-a309-47436fc9c8ae",
   "metadata": {},
   "outputs": [
    {
     "data": {
      "text/plain": [
       "target\n",
       "0    347568\n",
       "1     11466\n",
       "Name: count, dtype: int64"
      ]
     },
     "execution_count": 9,
     "metadata": {},
     "output_type": "execute_result"
    }
   ],
   "source": [
    "df_targets['target'].value_counts()"
   ]
  },
  {
   "cell_type": "code",
   "execution_count": 10,
   "id": "b9fb6241-beab-4fd4-b460-9bf7486649ee",
   "metadata": {},
   "outputs": [],
   "source": [
    "# Creat a dataframe with full set of target 1 for latter use\n",
    "df_targets_1 = df_targets[df_targets['target']==1]"
   ]
  },
  {
   "cell_type": "markdown",
   "id": "c028f854-0b74-4114-981c-1577164a8336",
   "metadata": {},
   "source": [
    "[<a href=\"#content\">Back to top</a>]"
   ]
  },
  {
   "cell_type": "markdown",
   "id": "205e517a-12f2-4b4f-b90f-665119fb8664",
   "metadata": {},
   "source": [
    "## Upload and analyse PubChem BioAssay AID 1996 on water solubility <a name=\"3\"></a>"
   ]
  },
  {
   "cell_type": "code",
   "execution_count": 11,
   "id": "cf360833-732c-4535-a286-780cd245245f",
   "metadata": {},
   "outputs": [
    {
     "name": "stdout",
     "output_type": "stream",
     "text": [
      "Shape of df_solubility:  (57859, 30)\n"
     ]
    },
    {
     "data": {
      "text/html": [
       "<div>\n",
       "<style scoped>\n",
       "    .dataframe tbody tr th:only-of-type {\n",
       "        vertical-align: middle;\n",
       "    }\n",
       "\n",
       "    .dataframe tbody tr th {\n",
       "        vertical-align: top;\n",
       "    }\n",
       "\n",
       "    .dataframe thead th {\n",
       "        text-align: right;\n",
       "    }\n",
       "</style>\n",
       "<table border=\"1\" class=\"dataframe\">\n",
       "  <thead>\n",
       "    <tr style=\"text-align: right;\">\n",
       "      <th></th>\n",
       "      <th>PUBCHEM_RESULT_TAG</th>\n",
       "      <th>SID</th>\n",
       "      <th>CID</th>\n",
       "      <th>PUBCHEM_EXT_DATASOURCE_SMILES</th>\n",
       "      <th>OUTCOME</th>\n",
       "      <th>PUBCHEM_ACTIVITY_SCORE</th>\n",
       "      <th>PUBCHEM_ACTIVITY_URL</th>\n",
       "      <th>PUBCHEM_ASSAYDATA_COMMENT</th>\n",
       "      <th>Solubility at pH 7.4_Qualifier_Mean</th>\n",
       "      <th>Solubility at pH 7.4_Mean</th>\n",
       "      <th>Test Concentration_1</th>\n",
       "      <th>Solubility at pH 7.4_Qualifier_1</th>\n",
       "      <th>Solubility at pH 7.4_1</th>\n",
       "      <th>Solubility at pH 7.4_Comment_1</th>\n",
       "      <th>Solubility of Astemizole at pH 7.4_Qualifier_1</th>\n",
       "      <th>Solubility of Astemizole at pH 7.4_1</th>\n",
       "      <th>Solubility of Sulfamethizole at pH 7.4_Qualifier_1</th>\n",
       "      <th>Solubility of Sulfamethizole at pH 7.4_1</th>\n",
       "      <th>Solubility of Imipramine HCl at pH 7.4_Qualifier_1</th>\n",
       "      <th>Solubility of Imipramine HCl at pH 7.4_1</th>\n",
       "      <th>Test Concentration_2</th>\n",
       "      <th>Solubility at pH 7.4_Qualifier_2</th>\n",
       "      <th>Solubility at pH 7.4_2</th>\n",
       "      <th>Solubility at pH 7.4_Comment_2</th>\n",
       "      <th>Solubility of Astemizole at pH 7.4_Qualifier_2</th>\n",
       "      <th>Solubility of Astemizole at pH 7.4_2</th>\n",
       "      <th>Solubility of Sulfamethizole at pH 7.4_Qualifier_2</th>\n",
       "      <th>Solubility of Sulfamethizole at pH 7.4_2</th>\n",
       "      <th>Solubility of Imipramine HCl at pH 7.4_Qualifier_2</th>\n",
       "      <th>Solubility of Imipramine HCl at pH 7.4_2</th>\n",
       "    </tr>\n",
       "  </thead>\n",
       "  <tbody>\n",
       "    <tr>\n",
       "      <th>0</th>\n",
       "      <td>1</td>\n",
       "      <td>24826444</td>\n",
       "      <td>2374148</td>\n",
       "      <td>COC1=CC=C(C=C1)OCC2=NNC(=S)N2N</td>\n",
       "      <td>Active</td>\n",
       "      <td>40</td>\n",
       "      <td>NaN</td>\n",
       "      <td>NaN</td>\n",
       "      <td>=</td>\n",
       "      <td>10.85</td>\n",
       "      <td>200</td>\n",
       "      <td>&lt;</td>\n",
       "      <td>0.1</td>\n",
       "      <td>Below LOQ</td>\n",
       "      <td>=</td>\n",
       "      <td>14.2</td>\n",
       "      <td>&gt;</td>\n",
       "      <td>40.5</td>\n",
       "      <td>&gt;</td>\n",
       "      <td>47.5</td>\n",
       "      <td>200.0</td>\n",
       "      <td>=</td>\n",
       "      <td>21.6</td>\n",
       "      <td>NaN</td>\n",
       "      <td>=</td>\n",
       "      <td>27.7</td>\n",
       "      <td>&gt;</td>\n",
       "      <td>40.5</td>\n",
       "      <td>&gt;</td>\n",
       "      <td>47.5</td>\n",
       "    </tr>\n",
       "    <tr>\n",
       "      <th>1</th>\n",
       "      <td>2</td>\n",
       "      <td>49669186</td>\n",
       "      <td>5295761</td>\n",
       "      <td>CC1=CC(=C(C=C1)NC2=NC3=CC=CC=C3N4C2=NN=C4)Cl</td>\n",
       "      <td>Inactive</td>\n",
       "      <td>0</td>\n",
       "      <td>NaN</td>\n",
       "      <td>NaN</td>\n",
       "      <td>&lt;</td>\n",
       "      <td>0.10</td>\n",
       "      <td>200</td>\n",
       "      <td>&lt;</td>\n",
       "      <td>0.1</td>\n",
       "      <td>Below LOQ</td>\n",
       "      <td>=</td>\n",
       "      <td>12.3</td>\n",
       "      <td>&gt;</td>\n",
       "      <td>40.5</td>\n",
       "      <td>&gt;</td>\n",
       "      <td>47.5</td>\n",
       "      <td>NaN</td>\n",
       "      <td>NaN</td>\n",
       "      <td>NaN</td>\n",
       "      <td>NaN</td>\n",
       "      <td>NaN</td>\n",
       "      <td>NaN</td>\n",
       "      <td>NaN</td>\n",
       "      <td>NaN</td>\n",
       "      <td>NaN</td>\n",
       "      <td>NaN</td>\n",
       "    </tr>\n",
       "    <tr>\n",
       "      <th>2</th>\n",
       "      <td>3</td>\n",
       "      <td>49669768</td>\n",
       "      <td>22431387</td>\n",
       "      <td>CC1=CC(=CC=C1)CCNC2=NC3=C(C=C(C=C3)C)N4C2=NN=C4</td>\n",
       "      <td>Inactive</td>\n",
       "      <td>0</td>\n",
       "      <td>NaN</td>\n",
       "      <td>NaN</td>\n",
       "      <td>&lt;</td>\n",
       "      <td>0.10</td>\n",
       "      <td>200</td>\n",
       "      <td>&lt;</td>\n",
       "      <td>0.1</td>\n",
       "      <td>Below LOQ</td>\n",
       "      <td>=</td>\n",
       "      <td>12.3</td>\n",
       "      <td>&gt;</td>\n",
       "      <td>40.5</td>\n",
       "      <td>&gt;</td>\n",
       "      <td>47.5</td>\n",
       "      <td>NaN</td>\n",
       "      <td>NaN</td>\n",
       "      <td>NaN</td>\n",
       "      <td>NaN</td>\n",
       "      <td>NaN</td>\n",
       "      <td>NaN</td>\n",
       "      <td>NaN</td>\n",
       "      <td>NaN</td>\n",
       "      <td>NaN</td>\n",
       "      <td>NaN</td>\n",
       "    </tr>\n",
       "    <tr>\n",
       "      <th>3</th>\n",
       "      <td>4</td>\n",
       "      <td>8139962</td>\n",
       "      <td>14296</td>\n",
       "      <td>CC1=C(N=C(C(=N1)C)C)C</td>\n",
       "      <td>Inactive</td>\n",
       "      <td>0</td>\n",
       "      <td>NaN</td>\n",
       "      <td>NaN</td>\n",
       "      <td>&lt;</td>\n",
       "      <td>0.10</td>\n",
       "      <td>200</td>\n",
       "      <td>&lt;</td>\n",
       "      <td>0.1</td>\n",
       "      <td>Below LOQ</td>\n",
       "      <td>=</td>\n",
       "      <td>11.4</td>\n",
       "      <td>&gt;</td>\n",
       "      <td>40.5</td>\n",
       "      <td>&gt;</td>\n",
       "      <td>47.5</td>\n",
       "      <td>NaN</td>\n",
       "      <td>NaN</td>\n",
       "      <td>NaN</td>\n",
       "      <td>NaN</td>\n",
       "      <td>NaN</td>\n",
       "      <td>NaN</td>\n",
       "      <td>NaN</td>\n",
       "      <td>NaN</td>\n",
       "      <td>NaN</td>\n",
       "      <td>NaN</td>\n",
       "    </tr>\n",
       "    <tr>\n",
       "      <th>4</th>\n",
       "      <td>5</td>\n",
       "      <td>24803435</td>\n",
       "      <td>865684</td>\n",
       "      <td>CC1=CC2=NC(=C(C=C2C=C1)C#N)NC3=CC=CC=C3OC</td>\n",
       "      <td>Inactive</td>\n",
       "      <td>0</td>\n",
       "      <td>NaN</td>\n",
       "      <td>NaN</td>\n",
       "      <td>&lt;</td>\n",
       "      <td>0.20</td>\n",
       "      <td>200</td>\n",
       "      <td>&lt;</td>\n",
       "      <td>0.2</td>\n",
       "      <td>Below LOQ</td>\n",
       "      <td>=</td>\n",
       "      <td>11.4</td>\n",
       "      <td>&gt;</td>\n",
       "      <td>40.5</td>\n",
       "      <td>&gt;</td>\n",
       "      <td>47.5</td>\n",
       "      <td>NaN</td>\n",
       "      <td>NaN</td>\n",
       "      <td>NaN</td>\n",
       "      <td>NaN</td>\n",
       "      <td>NaN</td>\n",
       "      <td>NaN</td>\n",
       "      <td>NaN</td>\n",
       "      <td>NaN</td>\n",
       "      <td>NaN</td>\n",
       "      <td>NaN</td>\n",
       "    </tr>\n",
       "  </tbody>\n",
       "</table>\n",
       "</div>"
      ],
      "text/plain": [
       "   PUBCHEM_RESULT_TAG       SID       CID  \\\n",
       "0                   1  24826444   2374148   \n",
       "1                   2  49669186   5295761   \n",
       "2                   3  49669768  22431387   \n",
       "3                   4   8139962     14296   \n",
       "4                   5  24803435    865684   \n",
       "\n",
       "                     PUBCHEM_EXT_DATASOURCE_SMILES   OUTCOME  \\\n",
       "0                   COC1=CC=C(C=C1)OCC2=NNC(=S)N2N    Active   \n",
       "1     CC1=CC(=C(C=C1)NC2=NC3=CC=CC=C3N4C2=NN=C4)Cl  Inactive   \n",
       "2  CC1=CC(=CC=C1)CCNC2=NC3=C(C=C(C=C3)C)N4C2=NN=C4  Inactive   \n",
       "3                            CC1=C(N=C(C(=N1)C)C)C  Inactive   \n",
       "4        CC1=CC2=NC(=C(C=C2C=C1)C#N)NC3=CC=CC=C3OC  Inactive   \n",
       "\n",
       "   PUBCHEM_ACTIVITY_SCORE  PUBCHEM_ACTIVITY_URL  PUBCHEM_ASSAYDATA_COMMENT  \\\n",
       "0                      40                   NaN                        NaN   \n",
       "1                       0                   NaN                        NaN   \n",
       "2                       0                   NaN                        NaN   \n",
       "3                       0                   NaN                        NaN   \n",
       "4                       0                   NaN                        NaN   \n",
       "\n",
       "  Solubility at pH 7.4_Qualifier_Mean  Solubility at pH 7.4_Mean  \\\n",
       "0                                   =                      10.85   \n",
       "1                                   <                       0.10   \n",
       "2                                   <                       0.10   \n",
       "3                                   <                       0.10   \n",
       "4                                   <                       0.20   \n",
       "\n",
       "   Test Concentration_1 Solubility at pH 7.4_Qualifier_1  \\\n",
       "0                   200                                <   \n",
       "1                   200                                <   \n",
       "2                   200                                <   \n",
       "3                   200                                <   \n",
       "4                   200                                <   \n",
       "\n",
       "   Solubility at pH 7.4_1 Solubility at pH 7.4_Comment_1  \\\n",
       "0                     0.1                      Below LOQ   \n",
       "1                     0.1                      Below LOQ   \n",
       "2                     0.1                      Below LOQ   \n",
       "3                     0.1                      Below LOQ   \n",
       "4                     0.2                      Below LOQ   \n",
       "\n",
       "  Solubility of Astemizole at pH 7.4_Qualifier_1  \\\n",
       "0                                              =   \n",
       "1                                              =   \n",
       "2                                              =   \n",
       "3                                              =   \n",
       "4                                              =   \n",
       "\n",
       "   Solubility of Astemizole at pH 7.4_1  \\\n",
       "0                                  14.2   \n",
       "1                                  12.3   \n",
       "2                                  12.3   \n",
       "3                                  11.4   \n",
       "4                                  11.4   \n",
       "\n",
       "  Solubility of Sulfamethizole at pH 7.4_Qualifier_1  \\\n",
       "0                                                  >   \n",
       "1                                                  >   \n",
       "2                                                  >   \n",
       "3                                                  >   \n",
       "4                                                  >   \n",
       "\n",
       "   Solubility of Sulfamethizole at pH 7.4_1  \\\n",
       "0                                      40.5   \n",
       "1                                      40.5   \n",
       "2                                      40.5   \n",
       "3                                      40.5   \n",
       "4                                      40.5   \n",
       "\n",
       "  Solubility of Imipramine HCl at pH 7.4_Qualifier_1  \\\n",
       "0                                                  >   \n",
       "1                                                  >   \n",
       "2                                                  >   \n",
       "3                                                  >   \n",
       "4                                                  >   \n",
       "\n",
       "   Solubility of Imipramine HCl at pH 7.4_1  Test Concentration_2  \\\n",
       "0                                      47.5                 200.0   \n",
       "1                                      47.5                   NaN   \n",
       "2                                      47.5                   NaN   \n",
       "3                                      47.5                   NaN   \n",
       "4                                      47.5                   NaN   \n",
       "\n",
       "  Solubility at pH 7.4_Qualifier_2  Solubility at pH 7.4_2  \\\n",
       "0                                =                    21.6   \n",
       "1                              NaN                     NaN   \n",
       "2                              NaN                     NaN   \n",
       "3                              NaN                     NaN   \n",
       "4                              NaN                     NaN   \n",
       "\n",
       "  Solubility at pH 7.4_Comment_2  \\\n",
       "0                            NaN   \n",
       "1                            NaN   \n",
       "2                            NaN   \n",
       "3                            NaN   \n",
       "4                            NaN   \n",
       "\n",
       "  Solubility of Astemizole at pH 7.4_Qualifier_2  \\\n",
       "0                                              =   \n",
       "1                                            NaN   \n",
       "2                                            NaN   \n",
       "3                                            NaN   \n",
       "4                                            NaN   \n",
       "\n",
       "   Solubility of Astemizole at pH 7.4_2  \\\n",
       "0                                  27.7   \n",
       "1                                   NaN   \n",
       "2                                   NaN   \n",
       "3                                   NaN   \n",
       "4                                   NaN   \n",
       "\n",
       "  Solubility of Sulfamethizole at pH 7.4_Qualifier_2  \\\n",
       "0                                                  >   \n",
       "1                                                NaN   \n",
       "2                                                NaN   \n",
       "3                                                NaN   \n",
       "4                                                NaN   \n",
       "\n",
       "   Solubility of Sulfamethizole at pH 7.4_2  \\\n",
       "0                                      40.5   \n",
       "1                                       NaN   \n",
       "2                                       NaN   \n",
       "3                                       NaN   \n",
       "4                                       NaN   \n",
       "\n",
       "  Solubility of Imipramine HCl at pH 7.4_Qualifier_2  \\\n",
       "0                                                  >   \n",
       "1                                                NaN   \n",
       "2                                                NaN   \n",
       "3                                                NaN   \n",
       "4                                                NaN   \n",
       "\n",
       "   Solubility of Imipramine HCl at pH 7.4_2  \n",
       "0                                      47.5  \n",
       "1                                       NaN  \n",
       "2                                       NaN  \n",
       "3                                       NaN  \n",
       "4                                       NaN  "
      ]
     },
     "execution_count": 11,
     "metadata": {},
     "output_type": "execute_result"
    }
   ],
   "source": [
    "# Load data from PubChem BioAssay AID 1996 \n",
    "df_solubility = pd.read_csv('input/pubchem_solubility.csv')\n",
    "\n",
    "# Display the data frame\n",
    "print('Shape of df_solubility: ', df_solubility.shape)\n",
    "df_solubility.head()"
   ]
  },
  {
   "cell_type": "code",
   "execution_count": 12,
   "id": "a11bab77-9a41-4df1-b1e9-906cea8040f0",
   "metadata": {},
   "outputs": [
    {
     "name": "stdout",
     "output_type": "stream",
     "text": [
      "<class 'pandas.core.frame.DataFrame'>\n",
      "RangeIndex: 57859 entries, 0 to 57858\n",
      "Data columns (total 30 columns):\n",
      " #   Column                                              Non-Null Count  Dtype  \n",
      "---  ------                                              --------------  -----  \n",
      " 0   PUBCHEM_RESULT_TAG                                  57859 non-null  int64  \n",
      " 1   SID                                                 57859 non-null  int64  \n",
      " 2   CID                                                 57859 non-null  int64  \n",
      " 3   PUBCHEM_EXT_DATASOURCE_SMILES                       57859 non-null  object \n",
      " 4   OUTCOME                                             57859 non-null  object \n",
      " 5   PUBCHEM_ACTIVITY_SCORE                              57859 non-null  int64  \n",
      " 6   PUBCHEM_ACTIVITY_URL                                0 non-null      float64\n",
      " 7   PUBCHEM_ASSAYDATA_COMMENT                           0 non-null      float64\n",
      " 8   Solubility at pH 7.4_Qualifier_Mean                 57859 non-null  object \n",
      " 9   Solubility at pH 7.4_Mean                           57859 non-null  float64\n",
      " 10  Test Concentration_1                                57859 non-null  int64  \n",
      " 11  Solubility at pH 7.4_Qualifier_1                    57859 non-null  object \n",
      " 12  Solubility at pH 7.4_1                              57859 non-null  float64\n",
      " 13  Solubility at pH 7.4_Comment_1                      20814 non-null  object \n",
      " 14  Solubility of Astemizole at pH 7.4_Qualifier_1      57859 non-null  object \n",
      " 15  Solubility of Astemizole at pH 7.4_1                57219 non-null  float64\n",
      " 16  Solubility of Sulfamethizole at pH 7.4_Qualifier_1  57859 non-null  object \n",
      " 17  Solubility of Sulfamethizole at pH 7.4_1            57859 non-null  float64\n",
      " 18  Solubility of Imipramine HCl at pH 7.4_Qualifier_1  57859 non-null  object \n",
      " 19  Solubility of Imipramine HCl at pH 7.4_1            57859 non-null  float64\n",
      " 20  Test Concentration_2                                17 non-null     float64\n",
      " 21  Solubility at pH 7.4_Qualifier_2                    17 non-null     object \n",
      " 22  Solubility at pH 7.4_2                              17 non-null     float64\n",
      " 23  Solubility at pH 7.4_Comment_2                      6 non-null      object \n",
      " 24  Solubility of Astemizole at pH 7.4_Qualifier_2      17 non-null     object \n",
      " 25  Solubility of Astemizole at pH 7.4_2                17 non-null     float64\n",
      " 26  Solubility of Sulfamethizole at pH 7.4_Qualifier_2  17 non-null     object \n",
      " 27  Solubility of Sulfamethizole at pH 7.4_2            17 non-null     float64\n",
      " 28  Solubility of Imipramine HCl at pH 7.4_Qualifier_2  17 non-null     object \n",
      " 29  Solubility of Imipramine HCl at pH 7.4_2            17 non-null     float64\n",
      "dtypes: float64(12), int64(5), object(13)\n",
      "memory usage: 13.2+ MB\n"
     ]
    }
   ],
   "source": [
    "df_solubility.info()"
   ]
  },
  {
   "cell_type": "code",
   "execution_count": 13,
   "id": "a2cca19a-569c-479f-8018-176c57acc7e4",
   "metadata": {},
   "outputs": [
    {
     "name": "stdout",
     "output_type": "stream",
     "text": [
      "Shape of the data frame:  (57859, 2)\n"
     ]
    },
    {
     "data": {
      "text/html": [
       "<div>\n",
       "<style scoped>\n",
       "    .dataframe tbody tr th:only-of-type {\n",
       "        vertical-align: middle;\n",
       "    }\n",
       "\n",
       "    .dataframe tbody tr th {\n",
       "        vertical-align: top;\n",
       "    }\n",
       "\n",
       "    .dataframe thead th {\n",
       "        text-align: right;\n",
       "    }\n",
       "</style>\n",
       "<table border=\"1\" class=\"dataframe\">\n",
       "  <thead>\n",
       "    <tr style=\"text-align: right;\">\n",
       "      <th></th>\n",
       "      <th>SID</th>\n",
       "      <th>CID</th>\n",
       "    </tr>\n",
       "  </thead>\n",
       "  <tbody>\n",
       "    <tr>\n",
       "      <th>0</th>\n",
       "      <td>24826444</td>\n",
       "      <td>2374148</td>\n",
       "    </tr>\n",
       "    <tr>\n",
       "      <th>1</th>\n",
       "      <td>49669186</td>\n",
       "      <td>5295761</td>\n",
       "    </tr>\n",
       "    <tr>\n",
       "      <th>2</th>\n",
       "      <td>49669768</td>\n",
       "      <td>22431387</td>\n",
       "    </tr>\n",
       "    <tr>\n",
       "      <th>3</th>\n",
       "      <td>8139962</td>\n",
       "      <td>14296</td>\n",
       "    </tr>\n",
       "    <tr>\n",
       "      <th>4</th>\n",
       "      <td>24803435</td>\n",
       "      <td>865684</td>\n",
       "    </tr>\n",
       "  </tbody>\n",
       "</table>\n",
       "</div>"
      ],
      "text/plain": [
       "        SID       CID\n",
       "0  24826444   2374148\n",
       "1  49669186   5295761\n",
       "2  49669768  22431387\n",
       "3   8139962     14296\n",
       "4  24803435    865684"
      ]
     },
     "execution_count": 13,
     "metadata": {},
     "output_type": "execute_result"
    }
   ],
   "source": [
    "# Create the desired data frame with CID and SID for sifting \n",
    "df_solubility = df_solubility[['SID', 'CID']]\n",
    "\n",
    "# Display the data frame\n",
    "print('Shape of the data frame: ', df_solubility.shape)\n",
    "df_solubility.head()"
   ]
  },
  {
   "cell_type": "markdown",
   "id": "705ded2f-6352-43c7-a381-6254fc106e3f",
   "metadata": {},
   "source": [
    "[<a href=\"#content\">Back to top</a>]"
   ]
  },
  {
   "cell_type": "markdown",
   "id": "54ea30ff-fd03-4097-9c44-635ecf5cf077",
   "metadata": {},
   "source": [
    "## Create the final data frame, crossing the data frame holding the targets with the water solubility data frame  <a name=\"4\"></a>"
   ]
  },
  {
   "cell_type": "code",
   "execution_count": 14,
   "id": "37f55d92-63e5-4331-a11b-1c1186089745",
   "metadata": {},
   "outputs": [
    {
     "name": "stdout",
     "output_type": "stream",
     "text": [
      "Shape of the data frame:  (49968, 3)\n"
     ]
    },
    {
     "data": {
      "text/html": [
       "<div>\n",
       "<style scoped>\n",
       "    .dataframe tbody tr th:only-of-type {\n",
       "        vertical-align: middle;\n",
       "    }\n",
       "\n",
       "    .dataframe tbody tr th {\n",
       "        vertical-align: top;\n",
       "    }\n",
       "\n",
       "    .dataframe thead th {\n",
       "        text-align: right;\n",
       "    }\n",
       "</style>\n",
       "<table border=\"1\" class=\"dataframe\">\n",
       "  <thead>\n",
       "    <tr style=\"text-align: right;\">\n",
       "      <th></th>\n",
       "      <th>CID</th>\n",
       "      <th>SID</th>\n",
       "      <th>target</th>\n",
       "    </tr>\n",
       "  </thead>\n",
       "  <tbody>\n",
       "    <tr>\n",
       "      <th>0</th>\n",
       "      <td>91499</td>\n",
       "      <td>56422461</td>\n",
       "      <td>1</td>\n",
       "    </tr>\n",
       "    <tr>\n",
       "      <th>1</th>\n",
       "      <td>2331</td>\n",
       "      <td>11532898</td>\n",
       "      <td>1</td>\n",
       "    </tr>\n",
       "    <tr>\n",
       "      <th>2</th>\n",
       "      <td>7207402</td>\n",
       "      <td>24815591</td>\n",
       "      <td>1</td>\n",
       "    </tr>\n",
       "    <tr>\n",
       "      <th>3</th>\n",
       "      <td>1480768</td>\n",
       "      <td>49666136</td>\n",
       "      <td>1</td>\n",
       "    </tr>\n",
       "    <tr>\n",
       "      <th>4</th>\n",
       "      <td>2813126</td>\n",
       "      <td>26730947</td>\n",
       "      <td>1</td>\n",
       "    </tr>\n",
       "  </tbody>\n",
       "</table>\n",
       "</div>"
      ],
      "text/plain": [
       "       CID       SID  target\n",
       "0    91499  56422461       1\n",
       "1     2331  11532898       1\n",
       "2  7207402  24815591       1\n",
       "3  1480768  49666136       1\n",
       "4  2813126  26730947       1"
      ]
     },
     "execution_count": 14,
     "metadata": {},
     "output_type": "execute_result"
    }
   ],
   "source": [
    "# Sift the main data frame with targets using the solubility data frame \n",
    "df = pd.merge(df_targets, df_solubility, on=[\"CID\", \"SID\"])\n",
    "\n",
    "# Display the data frame\n",
    "print('Shape of the data frame: ', df.shape)\n",
    "df.head()"
   ]
  },
  {
   "cell_type": "code",
   "execution_count": 15,
   "id": "38fef773-2d1e-4bd6-bcc5-18fd177c7afa",
   "metadata": {},
   "outputs": [
    {
     "data": {
      "text/plain": [
       "target\n",
       "0    48596\n",
       "1     1372\n",
       "Name: count, dtype: int64"
      ]
     },
     "execution_count": 15,
     "metadata": {},
     "output_type": "execute_result"
    }
   ],
   "source": [
    "# Count values of the sifted data frame \n",
    "df['target'].value_counts()"
   ]
  },
  {
   "cell_type": "code",
   "execution_count": 16,
   "id": "9a6a7b3f-492b-40ce-b93e-e89a61b4413b",
   "metadata": {},
   "outputs": [
    {
     "data": {
      "text/plain": [
       "(12149, 3)"
      ]
     },
     "execution_count": 16,
     "metadata": {},
     "output_type": "execute_result"
    }
   ],
   "source": [
    "# Handle the part of target 0 in the test set \n",
    "df_0 = df[df['target']==0]\n",
    "\n",
    "# Shuffle the resulting data set\n",
    "df_0 = df_0.sample(\n",
    "    frac = 1,        # Return entire dataframe\n",
    "    random_state=1   # Make result reproducible\n",
    "    ).reset_index(drop=True)\n",
    "\n",
    "# Extract every nth row (e.g., every 2nd row)\n",
    "n = 4\n",
    "df_0 = df_0[df_0.index % n == 0] \n",
    "\n",
    "df_0.shape"
   ]
  },
  {
   "cell_type": "code",
   "execution_count": 17,
   "id": "5ca044bc-da4e-44a4-ad20-46b55dad0cd9",
   "metadata": {},
   "outputs": [
    {
     "name": "stdout",
     "output_type": "stream",
     "text": [
      "Shape of the data frame:  (23615, 3)\n"
     ]
    },
    {
     "data": {
      "text/html": [
       "<div>\n",
       "<style scoped>\n",
       "    .dataframe tbody tr th:only-of-type {\n",
       "        vertical-align: middle;\n",
       "    }\n",
       "\n",
       "    .dataframe tbody tr th {\n",
       "        vertical-align: top;\n",
       "    }\n",
       "\n",
       "    .dataframe thead th {\n",
       "        text-align: right;\n",
       "    }\n",
       "</style>\n",
       "<table border=\"1\" class=\"dataframe\">\n",
       "  <thead>\n",
       "    <tr style=\"text-align: right;\">\n",
       "      <th></th>\n",
       "      <th>CID</th>\n",
       "      <th>SID</th>\n",
       "      <th>target</th>\n",
       "    </tr>\n",
       "  </thead>\n",
       "  <tbody>\n",
       "    <tr>\n",
       "      <th>0</th>\n",
       "      <td>5043536</td>\n",
       "      <td>24812093</td>\n",
       "      <td>0</td>\n",
       "    </tr>\n",
       "    <tr>\n",
       "      <th>1</th>\n",
       "      <td>17379611</td>\n",
       "      <td>49828700</td>\n",
       "      <td>0</td>\n",
       "    </tr>\n",
       "    <tr>\n",
       "      <th>2</th>\n",
       "      <td>2974813</td>\n",
       "      <td>49641236</td>\n",
       "      <td>0</td>\n",
       "    </tr>\n",
       "    <tr>\n",
       "      <th>3</th>\n",
       "      <td>2801663</td>\n",
       "      <td>26727045</td>\n",
       "      <td>0</td>\n",
       "    </tr>\n",
       "    <tr>\n",
       "      <th>4</th>\n",
       "      <td>1485386</td>\n",
       "      <td>49666699</td>\n",
       "      <td>0</td>\n",
       "    </tr>\n",
       "  </tbody>\n",
       "</table>\n",
       "</div>"
      ],
      "text/plain": [
       "        CID       SID  target\n",
       "0   5043536  24812093       0\n",
       "1  17379611  49828700       0\n",
       "2   2974813  49641236       0\n",
       "3   2801663  26727045       0\n",
       "4   1485386  49666699       0"
      ]
     },
     "execution_count": 17,
     "metadata": {},
     "output_type": "execute_result"
    }
   ],
   "source": [
    "# Concatenate the sifted target 0 with the original target 1\n",
    "df = pd.concat([df_0, df_targets_1]).reset_index(drop=True)\n",
    "\n",
    "# Display the data frame\n",
    "print('Shape of the data frame: ', df.shape)\n",
    "df.head()"
   ]
  },
  {
   "cell_type": "code",
   "execution_count": 18,
   "id": "c4d55caf-2d12-4ee9-afc7-1e054c818071",
   "metadata": {},
   "outputs": [
    {
     "data": {
      "text/plain": [
       "target\n",
       "0    12149\n",
       "1    11466\n",
       "Name: count, dtype: int64"
      ]
     },
     "execution_count": 18,
     "metadata": {},
     "output_type": "execute_result"
    }
   ],
   "source": [
    "# Count the target\n",
    "df['target'].value_counts()"
   ]
  },
  {
   "cell_type": "code",
   "execution_count": 19,
   "id": "9120b411-59a5-4279-bce2-77004c383de5",
   "metadata": {},
   "outputs": [],
   "source": [
    "# i.e. 9036 are the samples for 20 %"
   ]
  },
  {
   "cell_type": "code",
   "execution_count": 20,
   "id": "c7db5f32-92ae-4c10-bb31-0c20dc3eb565",
   "metadata": {},
   "outputs": [],
   "source": [
    "# Shuffle the resulting data set\n",
    "df = df.sample(\n",
    "    frac = 1,        # Return entire dataframe\n",
    "    random_state=1   # Make result reproducible\n",
    "    ).reset_index(drop=True)"
   ]
  },
  {
   "cell_type": "markdown",
   "id": "3aef09d2-1b29-4d68-bc44-1de98bc8680a",
   "metadata": {},
   "source": [
    "[<a href=\"#content\">Back to top</a>]"
   ]
  },
  {
   "cell_type": "markdown",
   "id": "87aa986e-cd35-4305-be67-4938e518f0f1",
   "metadata": {},
   "source": [
    "## Machine learning <a name=\"4\"></a>"
   ]
  },
  {
   "cell_type": "code",
   "execution_count": 21,
   "id": "d95ec678-e6ed-492d-804c-899946dbcd11",
   "metadata": {},
   "outputs": [
    {
     "name": "stdout",
     "output_type": "stream",
     "text": [
      "Training set proportions:\n",
      "target\n",
      "0    0.514451\n",
      "1    0.485549\n",
      "Name: proportion, dtype: float64\n",
      "Testing set proportions:\n",
      "target\n",
      "0    0.514503\n",
      "1    0.485497\n",
      "Name: proportion, dtype: float64\n"
     ]
    }
   ],
   "source": [
    "from sklearn import preprocessing\n",
    "from sklearn.model_selection import train_test_split\n",
    "from sklearn.preprocessing import StandardScaler\n",
    "\n",
    "# # Devide the data points from targets\n",
    "X = df.drop(columns=['target'], axis=1)\n",
    "y = df['target']\n",
    "\n",
    "# Split the data set into train and test parts \n",
    "X_train, X_test, y_train, y_test = train_test_split(X, y,\n",
    "                                                    test_size=0.20, #A scaling law for the validation-set training-set ratio size\" (I. Guyon, 1996, Unpublished Technical Report, AT&T Bell Laboratories).\n",
    "                                                    stratify=y,\n",
    "                                                    random_state=5) \n",
    "\n",
    "# Check class proportions (example)\n",
    "print(\"Training set proportions:\")\n",
    "print(y_train.value_counts(normalize=True)) \n",
    "print(\"Testing set proportions:\")\n",
    "print(y_test.value_counts(normalize=True))"
   ]
  },
  {
   "cell_type": "code",
   "execution_count": 22,
   "id": "634e03ae-2ae7-48c5-bdce-d704c35ceee0",
   "metadata": {},
   "outputs": [
    {
     "name": "stdout",
     "output_type": "stream",
     "text": [
      "Shapes:\n",
      "X_train:  (18892, 2)\n",
      "X_test:   (4723, 2)\n",
      "y_train:  (18892,)\n",
      "y_test:   (4723,)\n"
     ]
    }
   ],
   "source": [
    "# # Standardise the data points\n",
    "sc = StandardScaler()\n",
    "X_train = sc.fit_transform(X_train)\n",
    "X_test = sc.transform(X_test)\n",
    "\n",
    "# Print the shape of each part\n",
    "print(\"Shapes:\")\n",
    "print(\"X_train: \", X_train.shape)\n",
    "print(\"X_test:  \", X_test.shape)\n",
    "print(\"y_train: \", y_train.shape)\n",
    "print(\"y_test:  \", y_test.shape)"
   ]
  },
  {
   "cell_type": "code",
   "execution_count": 23,
   "id": "5eaba3b2-9695-4f2a-ae2d-8b0f2452f8aa",
   "metadata": {},
   "outputs": [
    {
     "data": {
      "text/plain": [
       "target\n",
       "0    2430\n",
       "1    2293\n",
       "Name: count, dtype: int64"
      ]
     },
     "execution_count": 23,
     "metadata": {},
     "output_type": "execute_result"
    }
   ],
   "source": [
    "y_test.value_counts()"
   ]
  },
  {
   "cell_type": "code",
   "execution_count": 24,
   "id": "b7a7ac7f-13dc-4f74-9a86-51138ac4d3be",
   "metadata": {},
   "outputs": [
    {
     "name": "stdout",
     "output_type": "stream",
     "text": [
      "[(0, 9719), (1, 9173)]\n"
     ]
    },
    {
     "data": {
      "image/png": "[encoded data removed]",
      "text/plain": [
       "<Figure size 640x480 with 1 Axes>"
      ]
     },
     "metadata": {},
     "output_type": "display_data"
    }
   ],
   "source": [
    "from collections import Counter\n",
    "from matplotlib import pyplot as plt\n",
    "import seaborn as sns\n",
    "\n",
    "# Illustrate the imbalance between classification targets \n",
    "print(sorted(Counter(y_train).items()))\n",
    "sns.set_style('white')\n",
    "sns.set(font_scale=1)\n",
    "plt.figure()\n",
    "sns.countplot(x=y_train, hue=y_train, palette='nipy_spectral')\n",
    "plt.show()"
   ]
  },
  {
   "cell_type": "code",
   "execution_count": 25,
   "id": "15ac07a9-3d7d-4445-ad56-8d4dd53fc1b4",
   "metadata": {},
   "outputs": [
    {
     "name": "stdout",
     "output_type": "stream",
     "text": [
      "[(0, 9719), (1, 9719)]\n"
     ]
    },
    {
     "data": {
      "image/png": "[encoded data removed]",
      "text/plain": [
       "<Figure size 640x480 with 1 Axes>"
      ]
     },
     "metadata": {},
     "output_type": "display_data"
    }
   ],
   "source": [
    "# from imblearn.over_sampling import SMOTE\n",
    "from imblearn.over_sampling import RandomOverSampler\n",
    "\n",
    "# Balance targets with Synthetic Minority Oversampling Technique\n",
    "# smote = SMOTE(random_state=0)\n",
    "ros = RandomOverSampler()\n",
    "\n",
    "X_train, y_train = ros.fit_resample(X_train, y_train)\n",
    "\n",
    "# Illustrate the balance between classification targets \n",
    "print(sorted(Counter(y_train).items()))\n",
    "sns.set_style('white')\n",
    "sns.set(font_scale=1)\n",
    "plt.figure()\n",
    "sns.countplot(x=y_train, hue=y_train,palette='nipy_spectral')\n",
    "plt.show()"
   ]
  },
  {
   "cell_type": "code",
   "execution_count": 26,
   "id": "310a6a37-d14d-412f-af33-2258e8a70ca9",
   "metadata": {},
   "outputs": [
    {
     "name": "stdout",
     "output_type": "stream",
     "text": [
      "Shapes:\n",
      "X_train:  (19438, 2)\n",
      "X_test:   (4723, 2)\n",
      "y_train:  (19438,)\n",
      "y_test:   (4723,)\n"
     ]
    }
   ],
   "source": [
    "# Print the shape of each part\n",
    "print(\"Shapes:\")\n",
    "print(\"X_train: \", X_train.shape)\n",
    "print(\"X_test:  \", X_test.shape)\n",
    "print(\"y_train: \", y_train.shape)\n",
    "print(\"y_test:  \", y_test.shape)"
   ]
  },
  {
   "cell_type": "code",
   "execution_count": 27,
   "id": "3f19292d-c600-4437-af3a-f799927ae4fb",
   "metadata": {},
   "outputs": [],
   "source": [
    "from sklearn.svm import SVC\n",
    "from sklearn.tree import DecisionTreeClassifier\n",
    "from sklearn.ensemble import RandomForestClassifier\n",
    "from sklearn.ensemble import GradientBoostingClassifier\n",
    "from xgboost import XGBClassifier\n",
    "from sklearn.neighbors import KNeighborsClassifier\n",
    "\n",
    "# Instantiate the algorithms that will be used, placing them in a dictionary \n",
    "clfs = {\"SVM\":SVC(kernel='rbf', C=1, probability=True),\n",
    "        \"Decision\":DecisionTreeClassifier(), \n",
    "        \"RandomForest\":RandomForestClassifier(), \n",
    "        \"GradientBoost\":GradientBoostingClassifier(),\n",
    "        \"XGBoost\":XGBClassifier(verbosity=0),\n",
    "       \"K-nearest\": KNeighborsClassifier(n_neighbors=3)\n",
    "       }"
   ]
  },
  {
   "cell_type": "code",
   "execution_count": 28,
   "id": "863246a5-92a4-47b6-ae60-075ebf9de7ad",
   "metadata": {},
   "outputs": [
    {
     "data": {
      "text/html": [
       "<div>\n",
       "<style scoped>\n",
       "    .dataframe tbody tr th:only-of-type {\n",
       "        vertical-align: middle;\n",
       "    }\n",
       "\n",
       "    .dataframe tbody tr th {\n",
       "        vertical-align: top;\n",
       "    }\n",
       "\n",
       "    .dataframe thead th {\n",
       "        text-align: right;\n",
       "    }\n",
       "</style>\n",
       "<table border=\"1\" class=\"dataframe\">\n",
       "  <thead>\n",
       "    <tr style=\"text-align: right;\">\n",
       "      <th></th>\n",
       "      <th>1.Algorithm</th>\n",
       "      <th>2.Accuracy</th>\n",
       "      <th>3.Precision</th>\n",
       "      <th>4.Recall</th>\n",
       "      <th>5.F1</th>\n",
       "      <th>6.ROC</th>\n",
       "    </tr>\n",
       "  </thead>\n",
       "  <tbody>\n",
       "    <tr>\n",
       "      <th>4</th>\n",
       "      <td>XGBoost</td>\n",
       "      <td>0.802</td>\n",
       "      <td>0.863</td>\n",
       "      <td>0.704</td>\n",
       "      <td>0.776</td>\n",
       "      <td>0.799</td>\n",
       "    </tr>\n",
       "    <tr>\n",
       "      <th>3</th>\n",
       "      <td>GradientBoost</td>\n",
       "      <td>0.801</td>\n",
       "      <td>0.885</td>\n",
       "      <td>0.677</td>\n",
       "      <td>0.767</td>\n",
       "      <td>0.797</td>\n",
       "    </tr>\n",
       "    <tr>\n",
       "      <th>2</th>\n",
       "      <td>RandomForest</td>\n",
       "      <td>0.790</td>\n",
       "      <td>0.812</td>\n",
       "      <td>0.738</td>\n",
       "      <td>0.774</td>\n",
       "      <td>0.789</td>\n",
       "    </tr>\n",
       "    <tr>\n",
       "      <th>5</th>\n",
       "      <td>K-nearest</td>\n",
       "      <td>0.774</td>\n",
       "      <td>0.784</td>\n",
       "      <td>0.738</td>\n",
       "      <td>0.761</td>\n",
       "      <td>0.773</td>\n",
       "    </tr>\n",
       "    <tr>\n",
       "      <th>0</th>\n",
       "      <td>SVM</td>\n",
       "      <td>0.766</td>\n",
       "      <td>0.827</td>\n",
       "      <td>0.655</td>\n",
       "      <td>0.731</td>\n",
       "      <td>0.763</td>\n",
       "    </tr>\n",
       "    <tr>\n",
       "      <th>1</th>\n",
       "      <td>Decision</td>\n",
       "      <td>0.757</td>\n",
       "      <td>0.748</td>\n",
       "      <td>0.752</td>\n",
       "      <td>0.750</td>\n",
       "      <td>0.756</td>\n",
       "    </tr>\n",
       "  </tbody>\n",
       "</table>\n",
       "</div>"
      ],
      "text/plain": [
       "     1.Algorithm  2.Accuracy  3.Precision  4.Recall   5.F1  6.ROC\n",
       "4        XGBoost       0.802        0.863     0.704  0.776  0.799\n",
       "3  GradientBoost       0.801        0.885     0.677  0.767  0.797\n",
       "2   RandomForest       0.790        0.812     0.738  0.774  0.789\n",
       "5      K-nearest       0.774        0.784     0.738  0.761  0.773\n",
       "0            SVM       0.766        0.827     0.655  0.731  0.763\n",
       "1       Decision       0.757        0.748     0.752  0.750  0.756"
      ]
     },
     "execution_count": 28,
     "metadata": {},
     "output_type": "execute_result"
    }
   ],
   "source": [
    "from sklearn.metrics import f1_score, accuracy_score, precision_score, recall_score, roc_auc_score\n",
    "\n",
    "# Create statistics with the results of training with different algorithms\n",
    "def model_fit(clfs):\n",
    "    fitted_model={}\n",
    "    model_result = pd.DataFrame()\n",
    "    # Iterate the clfs dictionary clfs\n",
    "    for model_name, model in clfs.items():\n",
    "        # Train the current model\n",
    "        model.fit(X_train,y_train)\n",
    "        # Add the current model name\n",
    "        fitted_model.update({model_name:model})\n",
    "        # Prediction of the current model \n",
    "        y_pred = model.predict(X_test)\n",
    "        model_dict = {}\n",
    "        model_dict['1.Algorithm'] = model_name\n",
    "        # Calculate the metrics\n",
    "        model_dict['2.Accuracy'] = round(accuracy_score(y_test, y_pred),3)\n",
    "        model_dict['3.Precision'] = round(precision_score(y_test, y_pred),3)\n",
    "        model_dict['4.Recall'] = round(recall_score(y_test, y_pred),3)\n",
    "        model_dict['5.F1'] = round(f1_score(y_test, y_pred),3)\n",
    "        model_dict['6.ROC'] = round(roc_auc_score(y_test, y_pred),3)\n",
    "        model_result = model_result._append(model_dict,ignore_index=True)\n",
    "    return fitted_model, model_result\n",
    "\n",
    "# Run the function model_fit(clfs) \n",
    "fitted_model, model_result = model_fit(clfs)\n",
    "\n",
    "# Display the results of the model_fit(clfs) function in a descending order\n",
    "model_result.sort_values(by=['2.Accuracy'],ascending=False)"
   ]
  },
  {
   "cell_type": "markdown",
   "id": "6c3e011c-b274-40f3-8ebf-459f2d247ab2",
   "metadata": {},
   "source": [
    "[<a href=\"#content\">Back to top</a>]"
   ]
  },
  {
   "cell_type": "markdown",
   "id": "566c36d6-e441-4365-a7ab-e9caa698324b",
   "metadata": {},
   "source": [
    "## Cross-validation  <a name=\"6\"></a>"
   ]
  },
  {
   "cell_type": "code",
   "execution_count": 29,
   "id": "15f68a7d-c7fa-476b-aaf2-363b9dd63870",
   "metadata": {
    "scrolled": true
   },
   "outputs": [
    {
     "data": {
      "text/html": [
       "<div>\n",
       "<style scoped>\n",
       "    .dataframe tbody tr th:only-of-type {\n",
       "        vertical-align: middle;\n",
       "    }\n",
       "\n",
       "    .dataframe tbody tr th {\n",
       "        vertical-align: top;\n",
       "    }\n",
       "\n",
       "    .dataframe thead th {\n",
       "        text-align: right;\n",
       "    }\n",
       "</style>\n",
       "<table border=\"1\" class=\"dataframe\">\n",
       "  <thead>\n",
       "    <tr style=\"text-align: right;\">\n",
       "      <th></th>\n",
       "      <th>1.Algorithm</th>\n",
       "      <th>2.Mean CV Score</th>\n",
       "      <th>3.Standard Deviation</th>\n",
       "      <th>4.List of CV Scores</th>\n",
       "    </tr>\n",
       "  </thead>\n",
       "  <tbody>\n",
       "    <tr>\n",
       "      <th>4</th>\n",
       "      <td>XGBoost</td>\n",
       "      <td>0.8071</td>\n",
       "      <td>0.0047</td>\n",
       "      <td>[0.8133, 0.7995, 0.8084, 0.8097, 0.8046]</td>\n",
       "    </tr>\n",
       "    <tr>\n",
       "      <th>3</th>\n",
       "      <td>GradientBoost</td>\n",
       "      <td>0.8031</td>\n",
       "      <td>0.0038</td>\n",
       "      <td>[0.8052, 0.7991, 0.8092, 0.7997, 0.8022]</td>\n",
       "    </tr>\n",
       "    <tr>\n",
       "      <th>2</th>\n",
       "      <td>RandomForest</td>\n",
       "      <td>0.7903</td>\n",
       "      <td>0.0059</td>\n",
       "      <td>[0.7957, 0.7813, 0.7957, 0.7938, 0.7853]</td>\n",
       "    </tr>\n",
       "    <tr>\n",
       "      <th>5</th>\n",
       "      <td>K-nearest</td>\n",
       "      <td>0.7810</td>\n",
       "      <td>0.0036</td>\n",
       "      <td>[0.7811, 0.7745, 0.783, 0.7853, 0.7811]</td>\n",
       "    </tr>\n",
       "    <tr>\n",
       "      <th>1</th>\n",
       "      <td>Decision</td>\n",
       "      <td>0.7524</td>\n",
       "      <td>0.0090</td>\n",
       "      <td>[0.7648, 0.7457, 0.7578, 0.7546, 0.7394]</td>\n",
       "    </tr>\n",
       "    <tr>\n",
       "      <th>0</th>\n",
       "      <td>SVM</td>\n",
       "      <td>0.7439</td>\n",
       "      <td>0.0032</td>\n",
       "      <td>[0.7434, 0.7425, 0.7502, 0.7427, 0.7408]</td>\n",
       "    </tr>\n",
       "  </tbody>\n",
       "</table>\n",
       "</div>"
      ],
      "text/plain": [
       "     1.Algorithm  2.Mean CV Score  3.Standard Deviation  \\\n",
       "4        XGBoost           0.8071                0.0047   \n",
       "3  GradientBoost           0.8031                0.0038   \n",
       "2   RandomForest           0.7903                0.0059   \n",
       "5      K-nearest           0.7810                0.0036   \n",
       "1       Decision           0.7524                0.0090   \n",
       "0            SVM           0.7439                0.0032   \n",
       "\n",
       "                        4.List of CV Scores  \n",
       "4  [0.8133, 0.7995, 0.8084, 0.8097, 0.8046]  \n",
       "3  [0.8052, 0.7991, 0.8092, 0.7997, 0.8022]  \n",
       "2  [0.7957, 0.7813, 0.7957, 0.7938, 0.7853]  \n",
       "5   [0.7811, 0.7745, 0.783, 0.7853, 0.7811]  \n",
       "1  [0.7648, 0.7457, 0.7578, 0.7546, 0.7394]  \n",
       "0  [0.7434, 0.7425, 0.7502, 0.7427, 0.7408]  "
      ]
     },
     "execution_count": 29,
     "metadata": {},
     "output_type": "execute_result"
    }
   ],
   "source": [
    "# Cross validation\n",
    "from sklearn.model_selection import cross_val_score\n",
    "import numpy as np\n",
    "\n",
    "# Create statistics with the results of the cross-validation of different estimators\n",
    "def model_CV(clfs):\n",
    "    estimated_model={}\n",
    "    model_cv_result = pd.DataFrame()\n",
    "    for model_name, model in clfs.items():\n",
    "        estimated_model.update({model_name:model})\n",
    "        scores = cross_val_score(model, X, y, cv=5, scoring='accuracy')\n",
    "        model_dict = {}\n",
    "        model_dict['1.Algorithm'] = model_name\n",
    "        model_dict['2.Mean CV Score'] = round(scores.mean(), 4)\n",
    "        model_dict['3.Standard Deviation'] = round(scores.std(), 4)\n",
    "        model_dict['4.List of CV Scores'] = np.round(scores, 4)\n",
    "        model_cv_result = model_cv_result._append(model_dict,ignore_index=True)\n",
    "    return estimated_model, model_cv_result\n",
    "\n",
    "# Run the model_CV(clsf) function\n",
    "estimated_model, model_cv_result = model_CV(clfs)\n",
    "\n",
    "# Display the results of cross_validation statistics in a descending order\n",
    "model_cv_result.sort_values(by=['2.Mean CV Score'],ascending=False)"
   ]
  },
  {
   "cell_type": "markdown",
   "id": "cee89838-931c-495c-bbb5-8b905d45fc23",
   "metadata": {},
   "source": [
    "[<a href=\"#content\">Back to top</a>]"
   ]
  },
  {
   "cell_type": "markdown",
   "id": "d05271d6-d591-44a8-af10-36cdf79a9267",
   "metadata": {},
   "source": [
    "## Hyperparameter tuning  <a name=\"7\"></a>"
   ]
  },
  {
   "cell_type": "code",
   "execution_count": 30,
   "id": "90238926-f3ec-4dee-9eb8-2f5f1695f449",
   "metadata": {},
   "outputs": [
    {
     "name": "stdout",
     "output_type": "stream",
     "text": [
      "{'colsample_bytree': 1.0, 'learning_rate': 0.1, 'max_depth': 5, 'min_child_weight': 5, 'n_estimators': 200, 'subsample': 0.9}\n",
      "0.8031689995458112\n"
     ]
    }
   ],
   "source": [
    "from sklearn.model_selection import GridSearchCV\n",
    "from xgboost import XGBClassifier\n",
    "\n",
    "# Define the parameter grid\n",
    "param_grid = {\n",
    "    'n_estimators': [100, 200, 300],\n",
    "    'max_depth': [3, 5, 7],\n",
    "    'learning_rate': [0.1, 0.05, 0.01],\n",
    "    'min_child_weight': [1, 5, 10],\n",
    "    'subsample': [0.8, 0.9, 1.0],\n",
    "    'colsample_bytree': [0.8, 0.9, 1.0]\n",
    "}\n",
    "\n",
    "# Create the XGBoost classifier\n",
    "xgb = XGBClassifier()\n",
    "\n",
    "# Perform grid search with cross-validation\n",
    "grid_search = GridSearchCV(xgb, param_grid, cv=5)\n",
    "grid_search.fit(X_train, y_train)\n",
    "\n",
    "# Print the best parameters and score\n",
    "print(grid_search.best_params_)\n",
    "print(grid_search.best_score_)"
   ]
  },
  {
   "cell_type": "markdown",
   "id": "0a4f2214-c6dc-477b-bd23-55ac33458cc7",
   "metadata": {},
   "source": [
    "[<a href=\"#content\">Back to top</a>]"
   ]
  },
  {
   "cell_type": "markdown",
   "id": "8ac1c06a-23c0-4ddf-b165-ac1eb4c6967f",
   "metadata": {},
   "source": [
    "## Scrutinise for overfitting  <a name=\"8\"></a>"
   ]
  },
  {
   "cell_type": "code",
   "execution_count": 32,
   "id": "d1867709-c4c6-4275-b56e-02a73883cf2c",
   "metadata": {},
   "outputs": [
    {
     "name": "stdout",
     "output_type": "stream",
     "text": [
      ">1, train: 0.786, test: 0.787\n",
      ">2, train: 0.798, test: 0.797\n",
      ">3, train: 0.806, test: 0.801\n",
      ">4, train: 0.813, test: 0.802\n",
      ">5, train: 0.818, test: 0.802\n",
      ">6, train: 0.825, test: 0.802\n",
      ">7, train: 0.830, test: 0.803\n",
      ">8, train: 0.834, test: 0.802\n",
      ">9, train: 0.840, test: 0.800\n",
      ">10, train: 0.842, test: 0.801\n",
      ">11, train: 0.846, test: 0.800\n",
      ">12, train: 0.849, test: 0.802\n",
      ">13, train: 0.852, test: 0.800\n",
      ">14, train: 0.855, test: 0.799\n",
      ">15, train: 0.858, test: 0.795\n",
      ">16, train: 0.859, test: 0.795\n",
      ">17, train: 0.861, test: 0.793\n",
      ">18, train: 0.862, test: 0.795\n",
      ">19, train: 0.865, test: 0.793\n",
      ">20, train: 0.864, test: 0.790\n"
     ]
    }
   ],
   "source": [
    "import matplotlib.pyplot as plt\n",
    "\n",
    "# Evaluate random forest classifier performance on train and test sets with different tree depths\n",
    "train_scores, test_scores = list(), list()\n",
    "# define the tree depths to evaluate\n",
    "values = [i for i in range(1, 21)]\n",
    "# evaluate a decision tree for each depth\n",
    "for i in values:\n",
    " # configure the model\n",
    "# model_ = RandomForestClassifier(max_depth=i)\n",
    " model_ = XGBClassifier(max_depth=i,\n",
    "                        colsample_bytree=1.0,\n",
    "                        learning_rate=0.1,\n",
    "                        min_child_weight=5,\n",
    "                        n_estimators=200,\n",
    "                        subsample=0.9\n",
    "                       )\n",
    " # fit model_ on the training dataset\n",
    " model_.fit(X_train, y_train)\n",
    " # evaluate on the train dataset\n",
    " train_yhat = model_.predict(X_train)\n",
    " train_acc = accuracy_score(y_train, train_yhat)\n",
    " train_scores.append(train_acc)\n",
    " # evaluate on the test dataset\n",
    " test_yhat = model_.predict(X_test)\n",
    " test_acc = accuracy_score(y_test, test_yhat)\n",
    " test_scores.append(test_acc)\n",
    " # summarize progress\n",
    " print('>%d, train: %.3f, test: %.3f' % (i, train_acc, test_acc))"
   ]
  },
  {
   "cell_type": "code",
   "execution_count": 33,
   "id": "4b9afe68-b4ee-4d71-a346-30e80718dce8",
   "metadata": {},
   "outputs": [
    {
     "data": {
      "image/png": "[encoded data removed]",
      "text/plain": [
       "<Figure size 640x480 with 1 Axes>"
      ]
     },
     "metadata": {},
     "output_type": "display_data"
    }
   ],
   "source": [
    "import math\n",
    "import matplotlib.pyplot as plt\n",
    "\n",
    "# Set integers for x axis\n",
    "new_x_ticks = range(math.floor(min(values)), math.ceil(max(values))+1)\n",
    "plt.xticks(new_x_ticks)\n",
    "# Plot of train and test scores vs tree depth\n",
    "plt.plot(values, train_scores, '-o', label='Train')\n",
    "plt.plot(values, test_scores, '-o', label='Test')\n",
    "plt.legend()\n",
    "plt.xlabel(\"max_depth\")\n",
    "plt.ylabel(\"accuravy\")\n",
    "plt.show()"
   ]
  },
  {
   "cell_type": "code",
   "execution_count": 38,
   "id": "707bb852-e19e-4ee2-9593-7e701ce09883",
   "metadata": {},
   "outputs": [
    {
     "name": "stdout",
     "output_type": "stream",
     "text": [
      "Accuracy:  0.803\n",
      "Precision:  0.866\n",
      "Recall:  0.703\n",
      "F1:  0.776\n",
      "ROC:  0.8\n"
     ]
    }
   ],
   "source": [
    "# Instantiate the mol\n",
    "model= XGBClassifier(max_depth=7,\n",
    "                     colsample_bytree=1.0,\n",
    "                     learning_rate=0.1,\n",
    "                     min_child_weight=5,\n",
    "                     n_estimators=200,\n",
    "                     subsample=0.9)\n",
    "\n",
    "# Train \n",
    "model.fit(X_train, y_train)\n",
    "\n",
    "# Predict\n",
    "y_pred = model.predict(X_test)\n",
    "\n",
    "# Evaluation\n",
    "acc = round(accuracy_score(y_test, y_pred),3)\n",
    "print('Accuracy: ', acc)\n",
    "pre = round(precision_score(y_test, y_pred),3)\n",
    "print('Precision: ', pre) \n",
    "rec = round(recall_score(y_test, y_pred),3)\n",
    "print('Recall: ',rec) \n",
    "f1 = round(f1_score(y_test, y_pred),3)\n",
    "print('F1: ', f1) \n",
    "roc = round(roc_auc_score(y_test, y_pred),3) \n",
    "print('ROC: ', roc)"
   ]
  },
  {
   "cell_type": "code",
   "execution_count": 39,
   "id": "2470810a-86d4-4a2a-9a08-61b576b07166",
   "metadata": {},
   "outputs": [
    {
     "name": "stdout",
     "output_type": "stream",
     "text": [
      "Cross-validation  scores: [0.814 0.801 0.809 0.813 0.805]\n",
      "Mean cross-validation score: 0.808\n"
     ]
    }
   ],
   "source": [
    "from sklearn.model_selection import cross_val_score\n",
    "\n",
    "# Perform 5-fold cross-validation\n",
    "# model = RandomForestClassifier(max_depth=15)\n",
    "scores = cross_val_score(model, X, y, cv=5, scoring='accuracy')\n",
    "\n",
    "print(\"Cross-validation  scores:\", np.round(scores, 3))\n",
    "print(\"Mean cross-validation score:\", np.round(scores.mean(), 3))"
   ]
  },
  {
   "cell_type": "markdown",
   "id": "faa30433-cbb2-4994-89b8-960c14f066e0",
   "metadata": {},
   "source": [
    "[<a href=\"#content\">Back to top</a>]"
   ]
  },
  {
   "cell_type": "markdown",
   "id": "0b2b697d-df22-4e19-b401-f69d0920d516",
   "metadata": {},
   "source": [
    "## Plot the learning curve and AUC <a name=\"9\"></a>"
   ]
  },
  {
   "cell_type": "code",
   "execution_count": 40,
   "id": "c605d161-6746-4b31-be89-950b67403d63",
   "metadata": {},
   "outputs": [
    {
     "data": {
      "image/png": "[encoded data removed]",
      "text/plain": [
       "<Figure size 1000x600 with 1 Axes>"
      ]
     },
     "metadata": {},
     "output_type": "display_data"
    }
   ],
   "source": [
    "import xgboost as xgb\n",
    "from sklearn.model_selection import learning_curve\n",
    "import matplotlib.pyplot as plt\n",
    "\n",
    "train_sizes, train_scores, test_scores = learning_curve(\n",
    "    model, X_train, y_train, cv=5, scoring='accuracy', n_jobs=-1\n",
    ")\n",
    "\n",
    "train_scores_mean = np.mean(train_scores, axis=1)\n",
    "train_scores_std = np.std(train_scores, axis=1)\n",
    "test_scores_mean = np.mean(test_scores, axis=1)\n",
    "test_scores_std = np.std(test_scores, axis=1)\n",
    "\n",
    "plt.figure(figsize=(10, 6))\n",
    "plt.title(\"Learning Curve\")\n",
    "plt.xlabel(\"Training examples\")\n",
    "plt.ylabel(\"Score\")\n",
    "\n",
    "plt.fill_between(\n",
    "    train_sizes,\n",
    "    train_scores_mean - train_scores_std,\n",
    "    train_scores_mean + train_scores_std,\n",
    "    alpha=0.1,\n",
    "    color=\"r\",\n",
    ")\n",
    "plt.fill_between(\n",
    "    train_sizes,\n",
    "    test_scores_mean - test_scores_std,\n",
    "    test_scores_mean + test_scores_std,\n",
    "    alpha=0.1,\n",
    "    color=\"b\",\n",
    ")\n",
    "plt.plot(train_sizes, train_scores_mean, \"o-\", color=\"r\", label=\"Training score\")\n",
    "plt.plot(train_sizes, test_scores_mean, \"o-\", color=\"b\", label=\"Cross-validation score\")\n",
    "plt.legend(loc=\"best\")\n",
    "plt.show()"
   ]
  },
  {
   "cell_type": "markdown",
   "id": "eb122e9e-4899-45d1-982b-2c4d349d57b4",
   "metadata": {},
   "source": [
    "[<a href=\"#content\">Back to top</a>]"
   ]
  },
  {
   "cell_type": "markdown",
   "id": "a75aea97-ea81-4969-adb2-208921273686",
   "metadata": {},
   "source": [
    "## Confusion matrix, classification report <a name=\"10\"></a>"
   ]
  },
  {
   "cell_type": "code",
   "execution_count": 41,
   "id": "85674177-42e0-4096-b955-bf5e118746fb",
   "metadata": {},
   "outputs": [
    {
     "data": {
      "image/png": "[encoded data removed]",
      "text/plain": [
       "<Figure size 640x480 with 2 Axes>"
      ]
     },
     "metadata": {},
     "output_type": "display_data"
    }
   ],
   "source": [
    "from sklearn import metrics\n",
    "from sklearn.metrics import confusion_matrix\n",
    "\n",
    "# Random forest classifier prediction\n",
    "predicted = model.fit(X_train, y_train).predict(X_test)\n",
    "\n",
    "# Calculate the confusion matrix\n",
    "confusion_matrix = metrics.confusion_matrix(y_test, predicted)\n",
    "\n",
    "# Display confusion matrix\n",
    "cm_display = metrics.ConfusionMatrixDisplay(confusion_matrix = confusion_matrix, display_labels = [False, True])\n",
    "cm_display.plot()\n",
    "plt.show()"
   ]
  },
  {
   "cell_type": "code",
   "execution_count": 42,
   "id": "e28a162a-6f9b-491d-bc32-fd6039709d64",
   "metadata": {},
   "outputs": [
    {
     "name": "stdout",
     "output_type": "stream",
     "text": [
      "                     precision    recall  f1-score   support\n",
      "\n",
      " Active (target 1)        0.76      0.90      0.82      2430\n",
      "Inactive (target 0)       0.87      0.70      0.78      2293\n",
      "\n",
      "           accuracy                           0.80      4723\n",
      "          macro avg       0.81      0.80      0.80      4723\n",
      "       weighted avg       0.81      0.80      0.80      4723\n",
      "\n"
     ]
    }
   ],
   "source": [
    "# Classification report \n",
    "from sklearn.metrics import classification_report\n",
    "\n",
    "# Print the classification report \n",
    "target_names = ['Active (target 1) ', 'Inactive (target 0)']\n",
    "print(classification_report(y_test, predicted, target_names=target_names))"
   ]
  },
  {
   "cell_type": "code",
   "execution_count": 43,
   "id": "0ee8c0e0-7491-4489-a10c-3816f91bca19",
   "metadata": {},
   "outputs": [
    {
     "data": {
      "image/png": "[encoded data removed]",
      "text/plain": [
       "<Figure size 640x480 with 1 Axes>"
      ]
     },
     "metadata": {},
     "output_type": "display_data"
    }
   ],
   "source": [
    "from sklearn.metrics import RocCurveDisplay\n",
    "\n",
    "svc_disp = RocCurveDisplay.from_estimator(model, X_test, y_test)\n",
    "plt.show()"
   ]
  },
  {
   "cell_type": "markdown",
   "id": "cef58c80-8c5f-4900-8f12-1f040a5ac1f9",
   "metadata": {},
   "source": [
    "[<a href=\"#content\">Back to top</a>]"
   ]
  }
 ],
 "metadata": {
  "kernelspec": {
   "display_name": "Python 3 (ipykernel)",
   "language": "python",
   "name": "python3"
  },
  "language_info": {
   "codemirror_mode": {
    "name": "ipython",
    "version": 3
   },
   "file_extension": ".py",
   "mimetype": "text/x-python",
   "name": "python",
   "nbconvert_exporter": "python",
   "pygments_lexer": "ipython3",
   "version": "3.12.2"
  }
 },
 "nbformat": 4,
 "nbformat_minor": 5
}
